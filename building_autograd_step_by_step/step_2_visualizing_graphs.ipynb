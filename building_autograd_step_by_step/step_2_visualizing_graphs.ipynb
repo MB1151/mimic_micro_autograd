{
 "cells": [
  {
   "cell_type": "code",
   "execution_count": 1,
   "metadata": {},
   "outputs": [],
   "source": [
    "# In this notebook, you learn:\n",
    "#\n",
    "# 1) How to draw a directed graph that represents a mathematical expression.\n",
    "#\n",
    "#\n",
    "#\n",
    "# Prerequisites to use graphviz:\n",
    "# 1) Install graphviz\n",
    "#       - sudo apt-get install graphviz\n",
    "#           - This is the graphviz library that is used to draw graphs in dot language.\n",
    "#           - Link: https://www.graphviz.org/download/\n",
    "# 2) Install the graphviz python package\n",
    "#       - pip install graphviz\n",
    "#           - This is the Python interface to the graphviz library.\n",
    "#           - Link: https://pypi.org/project/graphviz/\n",
    "# 3) Documentation for basic graphviz usage in Python\n",
    "#       - https://graphviz.readthedocs.io/en/stable/manual.html"
   ]
  },
  {
   "cell_type": "code",
   "execution_count": 30,
   "metadata": {},
   "outputs": [],
   "source": [
    "from graphviz import Digraph\n",
    "from IPython.display import Image"
   ]
  },
  {
   "cell_type": "code",
   "execution_count": 24,
   "metadata": {},
   "outputs": [
    {
     "name": "stdout",
     "output_type": "stream",
     "text": [
      "type(dot) = <class 'graphviz.graphs.Digraph'>\n",
      "------------------------------------------------------------------------------------------------------------------------------------------------------\n",
      "dot = // Mathematical Expression\n",
      "digraph ExpressionGraph {\n",
      "}\n",
      "\n"
     ]
    }
   ],
   "source": [
    "# Digraph creates the content of the graph in the dot language - dot is a special language (https://www.graphviz.org/doc/info/lang.html)\n",
    "# used to define graphs.\n",
    "dot = Digraph(name=\"ExpressionGraph\", comment=\"Mathematical Expression\")\n",
    "print(f\"type(dot) = {type(dot)}\")\n",
    "print(\"-\" * 150)\n",
    "# It will be empty since we have not added any nodes or edges to the graph.\n",
    "print(f\"dot = {dot}\")"
   ]
  },
  {
   "cell_type": "code",
   "execution_count": 25,
   "metadata": {},
   "outputs": [
    {
     "name": "stdout",
     "output_type": "stream",
     "text": [
      "dot = // Mathematical Expression\n",
      "digraph ExpressionGraph {\n",
      "\ta [label=a]\n",
      "\tb [label=b]\n",
      "\tc [label=c]\n",
      "}\n",
      "\n"
     ]
    }
   ],
   "source": [
    "# Add nodes to the graph. Lets just add 3 nodes for now.\n",
    "# name  -- unique identifier for the node.\n",
    "# label -- text that is displayed for the node when the graph is drawn.\n",
    "dot.node(name=\"a\", label=\"a\")\n",
    "dot.node(name=\"b\", label=\"b\")\n",
    "dot.node(name=\"c\", label=\"c\")\n",
    "# Now the graph should have 3 nodes.\n",
    "print(f\"dot = {dot}\")"
   ]
  },
  {
   "cell_type": "code",
   "execution_count": 26,
   "metadata": {},
   "outputs": [
    {
     "name": "stdout",
     "output_type": "stream",
     "text": [
      "dot = // Mathematical Expression\n",
      "digraph ExpressionGraph {\n",
      "\ta [label=a]\n",
      "\tb [label=b]\n",
      "\tc [label=c]\n",
      "\ta -> b\n",
      "\tc -> b\n",
      "}\n",
      "\n",
      "------------------------------------------------------------------------------------------------------------------------------------------------------\n",
      "dot = // Mathematical Expression\n",
      "digraph ExpressionGraph {\n",
      "\ta [label=a]\n",
      "\tb [label=b]\n",
      "\tc [label=c]\n",
      "\ta -> b\n",
      "\tc -> b\n",
      "\ta -> c\n",
      "}\n",
      "\n"
     ]
    }
   ],
   "source": [
    "# Let's add some edges to the graph.\n",
    "#\n",
    "# There are two way to add edges to the graph.\n",
    "#   1) Add multiple edges at once using the edges() method.\n",
    "#   2) Add edges one by one using the edge() method.\n",
    "\n",
    "# This will add edges from a to b and from c to b.\n",
    "dot.edges(tail_head_iter=[\"ab\", \"cb\"])\n",
    "print(f\"dot = {dot}\")\n",
    "print(\"-\" * 150)\n",
    "# This will add an edge from a to c.\n",
    "dot.edge(tail_name=\"a\", head_name=\"c\")\n",
    "print(f\"dot = {dot}\")"
   ]
  },
  {
   "cell_type": "code",
   "execution_count": 32,
   "metadata": {},
   "outputs": [
    {
     "data": {
      "image/png": "[encoded data removed]",
      "text/plain": [
       "<IPython.core.display.Image object>"
      ]
     },
     "execution_count": 32,
     "metadata": {},
     "output_type": "execute_result"
    }
   ],
   "source": [
    "# Let's save the image and display it. We cannot directly display the image using view=True since we are running this\n",
    "# in wsl and apparently dot.render depends on underlying os capabilities to display the image which becomes a little\n",
    "# tricky in wsl. So, we will save the image and then display it using the Source class.\n",
    "dot.render(format=\"png\", directory=\"../Data/Images\", view=False)\n",
    "Image(filename=\"../Data/Images/ExpressionGraph.gv.png\")"
   ]
  },
  {
   "cell_type": "code",
   "execution_count": 36,
   "metadata": {},
   "outputs": [
    {
     "data": {
      "image/svg+xml": [
       "<?xml version=\"1.0\" encoding=\"UTF-8\" standalone=\"no\"?>\n",
       "<!DOCTYPE svg PUBLIC \"-//W3C//DTD SVG 1.1//EN\"\n",
       " \"http://www.w3.org/Graphics/SVG/1.1/DTD/svg11.dtd\">\n",
       "<!-- Generated by graphviz version 2.43.0 (0)\n",
       " -->\n",
       "<!-- Title: ExpressionGraph Pages: 1 -->\n",
       "<svg width=\"90pt\" height=\"188pt\"\n",
       " viewBox=\"0.00 0.00 90.00 188.00\" xmlns=\"http://www.w3.org/2000/svg\" xmlns:xlink=\"http://www.w3.org/1999/xlink\">\n",
       "<g id=\"graph0\" class=\"graph\" transform=\"scale(1 1) rotate(0) translate(4 184)\">\n",
       "<title>ExpressionGraph</title>\n",
       "<polygon fill=\"white\" stroke=\"transparent\" points=\"-4,4 -4,-184 86,-184 86,4 -4,4\"/>\n",
       "<!-- a -->\n",
       "<g id=\"node1\" class=\"node\">\n",
       "<title>a</title>\n",
       "<ellipse fill=\"none\" stroke=\"black\" cx=\"27\" cy=\"-162\" rx=\"27\" ry=\"18\"/>\n",
       "<text text-anchor=\"middle\" x=\"27\" y=\"-158.3\" font-family=\"Times,serif\" font-size=\"14.00\">a</text>\n",
       "</g>\n",
       "<!-- b -->\n",
       "<g id=\"node2\" class=\"node\">\n",
       "<title>b</title>\n",
       "<ellipse fill=\"none\" stroke=\"black\" cx=\"27\" cy=\"-18\" rx=\"27\" ry=\"18\"/>\n",
       "<text text-anchor=\"middle\" x=\"27\" y=\"-14.3\" font-family=\"Times,serif\" font-size=\"14.00\">b</text>\n",
       "</g>\n",
       "<!-- a&#45;&gt;b -->\n",
       "<g id=\"edge1\" class=\"edge\">\n",
       "<title>a&#45;&gt;b</title>\n",
       "<path fill=\"none\" stroke=\"black\" d=\"M23.75,-143.89C21.95,-133.54 19.91,-120.06 19,-108 17.8,-92.04 17.8,-87.96 19,-72 19.64,-63.52 20.84,-54.34 22.12,-46.04\"/>\n",
       "<polygon fill=\"black\" stroke=\"black\" points=\"25.58,-46.55 23.75,-36.11 18.68,-45.41 25.58,-46.55\"/>\n",
       "</g>\n",
       "<!-- c -->\n",
       "<g id=\"node3\" class=\"node\">\n",
       "<title>c</title>\n",
       "<ellipse fill=\"none\" stroke=\"black\" cx=\"55\" cy=\"-90\" rx=\"27\" ry=\"18\"/>\n",
       "<text text-anchor=\"middle\" x=\"55\" y=\"-86.3\" font-family=\"Times,serif\" font-size=\"14.00\">c</text>\n",
       "</g>\n",
       "<!-- a&#45;&gt;c -->\n",
       "<g id=\"edge3\" class=\"edge\">\n",
       "<title>a&#45;&gt;c</title>\n",
       "<path fill=\"none\" stroke=\"black\" d=\"M33.64,-144.41C36.91,-136.22 40.94,-126.14 44.62,-116.95\"/>\n",
       "<polygon fill=\"black\" stroke=\"black\" points=\"47.95,-118.05 48.41,-107.47 41.45,-115.45 47.95,-118.05\"/>\n",
       "</g>\n",
       "<!-- c&#45;&gt;b -->\n",
       "<g id=\"edge2\" class=\"edge\">\n",
       "<title>c&#45;&gt;b</title>\n",
       "<path fill=\"none\" stroke=\"black\" d=\"M48.36,-72.41C45.09,-64.22 41.06,-54.14 37.38,-44.95\"/>\n",
       "<polygon fill=\"black\" stroke=\"black\" points=\"40.55,-43.45 33.59,-35.47 34.05,-46.05 40.55,-43.45\"/>\n",
       "</g>\n",
       "</g>\n",
       "</svg>\n"
      ],
      "text/plain": [
       "<graphviz.graphs.Digraph at 0x7f43780f2530>"
      ]
     },
     "execution_count": 36,
     "metadata": {},
     "output_type": "execute_result"
    }
   ],
   "source": [
    "# We can also display the graph in Jupyter notebook by simply running the dot object.\n",
    "dot"
   ]
  },
  {
   "cell_type": "markdown",
   "metadata": {},
   "source": [
    "Now, let's try to use additional features provided by graphviz to display in a user friendly manner that makes it <br>\n",
    "easier to visualize a mathematical expression."
   ]
  },
  {
   "cell_type": "code",
   "execution_count": 50,
   "metadata": {},
   "outputs": [],
   "source": [
    "# Let's create a function to add nodes and edges to the dot object.\n",
    "def populate_simple_expression_graph(dot: Digraph) -> Digraph:\n",
    "    # Add nodes to the graph.\n",
    "    dot.node(name=\"a\", label=\"a\", shape=\"rectangle\")\n",
    "    dot.node(name=\"b\", label=\"b\", shape=\"rectangle\")\n",
    "    dot.node(name=\"c\", label=\"c\", shape=\"rectangle\")\n",
    "    dot.node(name=\"d\", label=\"d\", shape=\"rectangle\")\n",
    "    # Add edges to the graph.\n",
    "    dot.edges(tail_head_iter=[\"ab\", \"cb\"])\n",
    "    dot.edge(tail_name=\"b\", head_name=\"d\")\n",
    "    dot.edge(tail_name=\"a\", head_name=\"d\")\n",
    "    dot.edge(tail_name=\"c\", head_name=\"d\")\n",
    "    return dot"
   ]
  },
  {
   "cell_type": "code",
   "execution_count": 51,
   "metadata": {},
   "outputs": [
    {
     "name": "stdout",
     "output_type": "stream",
     "text": [
      "dot_2 = // Mathematical Expression\n",
      "digraph ExpressionGraph_2 {\n",
      "\tgraph [rankdir=LR]\n",
      "}\n",
      "\n"
     ]
    }
   ],
   "source": [
    "dot_2 = Digraph(name=\"ExpressionGraph_2\", \n",
    "                comment=\"Mathematical Expression\", \n",
    "                format=\"png\", \n",
    "                directory=\"../Data/Images\",\n",
    "                graph_attr={\"rankdir\": \"LR\"})  # This is to instruct the graph to draw the edges from left to right.\n",
    "print(f\"dot_2 = {dot_2}\")"
   ]
  },
  {
   "cell_type": "code",
   "execution_count": 52,
   "metadata": {},
   "outputs": [
    {
     "name": "stdout",
     "output_type": "stream",
     "text": [
      "dot_2 = // Mathematical Expression\n",
      "digraph ExpressionGraph_2 {\n",
      "\tgraph [rankdir=LR]\n",
      "\ta [label=a shape=rectangle]\n",
      "\tb [label=b shape=rectangle]\n",
      "\tc [label=c shape=rectangle]\n",
      "\td [label=d shape=rectangle]\n",
      "\ta -> b\n",
      "\tc -> b\n",
      "\tb -> d\n",
      "\ta -> d\n",
      "\tc -> d\n",
      "}\n",
      "\n"
     ]
    }
   ],
   "source": [
    "dot_2 = populate_simple_expression_graph(dot=dot_2)\n",
    "print(f\"dot_2 = {dot_2}\")"
   ]
  },
  {
   "cell_type": "code",
   "execution_count": 53,
   "metadata": {},
   "outputs": [
    {
     "data": {
      "image/svg+xml": [
       "<?xml version=\"1.0\" encoding=\"UTF-8\" standalone=\"no\"?>\n",
       "<!DOCTYPE svg PUBLIC \"-//W3C//DTD SVG 1.1//EN\"\n",
       " \"http://www.w3.org/Graphics/SVG/1.1/DTD/svg11.dtd\">\n",
       "<!-- Generated by graphviz version 2.43.0 (0)\n",
       " -->\n",
       "<!-- Title: ExpressionGraph_2 Pages: 1 -->\n",
       "<svg width=\"242pt\" height=\"107pt\"\n",
       " viewBox=\"0.00 0.00 242.00 107.00\" xmlns=\"http://www.w3.org/2000/svg\" xmlns:xlink=\"http://www.w3.org/1999/xlink\">\n",
       "<g id=\"graph0\" class=\"graph\" transform=\"scale(1 1) rotate(0) translate(4 103)\">\n",
       "<title>ExpressionGraph_2</title>\n",
       "<polygon fill=\"white\" stroke=\"transparent\" points=\"-4,4 -4,-103 238,-103 238,4 -4,4\"/>\n",
       "<!-- a -->\n",
       "<g id=\"node1\" class=\"node\">\n",
       "<title>a</title>\n",
       "<polygon fill=\"none\" stroke=\"black\" points=\"54,-99 0,-99 0,-63 54,-63 54,-99\"/>\n",
       "<text text-anchor=\"middle\" x=\"27\" y=\"-77.3\" font-family=\"Times,serif\" font-size=\"14.00\">a</text>\n",
       "</g>\n",
       "<!-- b -->\n",
       "<g id=\"node2\" class=\"node\">\n",
       "<title>b</title>\n",
       "<polygon fill=\"none\" stroke=\"black\" points=\"144,-63 90,-63 90,-27 144,-27 144,-63\"/>\n",
       "<text text-anchor=\"middle\" x=\"117\" y=\"-41.3\" font-family=\"Times,serif\" font-size=\"14.00\">b</text>\n",
       "</g>\n",
       "<!-- a&#45;&gt;b -->\n",
       "<g id=\"edge1\" class=\"edge\">\n",
       "<title>a&#45;&gt;b</title>\n",
       "<path fill=\"none\" stroke=\"black\" d=\"M54.4,-70.2C62.57,-66.86 71.7,-63.12 80.38,-59.57\"/>\n",
       "<polygon fill=\"black\" stroke=\"black\" points=\"81.99,-62.7 89.92,-55.67 79.34,-56.22 81.99,-62.7\"/>\n",
       "</g>\n",
       "<!-- d -->\n",
       "<g id=\"node4\" class=\"node\">\n",
       "<title>d</title>\n",
       "<polygon fill=\"none\" stroke=\"black\" points=\"234,-63 180,-63 180,-27 234,-27 234,-63\"/>\n",
       "<text text-anchor=\"middle\" x=\"207\" y=\"-41.3\" font-family=\"Times,serif\" font-size=\"14.00\">d</text>\n",
       "</g>\n",
       "<!-- a&#45;&gt;d -->\n",
       "<g id=\"edge4\" class=\"edge\">\n",
       "<title>a&#45;&gt;d</title>\n",
       "<path fill=\"none\" stroke=\"black\" d=\"M54.2,-81.43C77.97,-81.25 113.81,-79.52 144,-72 152.86,-69.79 162.05,-66.44 170.56,-62.83\"/>\n",
       "<polygon fill=\"black\" stroke=\"black\" points=\"172.12,-65.97 179.83,-58.71 169.27,-59.58 172.12,-65.97\"/>\n",
       "</g>\n",
       "<!-- b&#45;&gt;d -->\n",
       "<g id=\"edge3\" class=\"edge\">\n",
       "<title>b&#45;&gt;d</title>\n",
       "<path fill=\"none\" stroke=\"black\" d=\"M144.4,-45C152.39,-45 161.31,-45 169.82,-45\"/>\n",
       "<polygon fill=\"black\" stroke=\"black\" points=\"169.92,-48.5 179.92,-45 169.92,-41.5 169.92,-48.5\"/>\n",
       "</g>\n",
       "<!-- c -->\n",
       "<g id=\"node3\" class=\"node\">\n",
       "<title>c</title>\n",
       "<polygon fill=\"none\" stroke=\"black\" points=\"54,-36 0,-36 0,0 54,0 54,-36\"/>\n",
       "<text text-anchor=\"middle\" x=\"27\" y=\"-14.3\" font-family=\"Times,serif\" font-size=\"14.00\">c</text>\n",
       "</g>\n",
       "<!-- c&#45;&gt;b -->\n",
       "<g id=\"edge2\" class=\"edge\">\n",
       "<title>c&#45;&gt;b</title>\n",
       "<path fill=\"none\" stroke=\"black\" d=\"M54.4,-26.1C62.48,-28.58 71.51,-31.35 80.1,-33.99\"/>\n",
       "<polygon fill=\"black\" stroke=\"black\" points=\"79.33,-37.41 89.92,-37 81.39,-30.72 79.33,-37.41\"/>\n",
       "</g>\n",
       "<!-- c&#45;&gt;d -->\n",
       "<g id=\"edge5\" class=\"edge\">\n",
       "<title>c&#45;&gt;d</title>\n",
       "<path fill=\"none\" stroke=\"black\" d=\"M54.11,-14.99C77.83,-12.96 113.64,-11.68 144,-18 152.94,-19.86 162.16,-23.08 170.68,-26.66\"/>\n",
       "<polygon fill=\"black\" stroke=\"black\" points=\"169.38,-29.92 179.94,-30.81 172.24,-23.53 169.38,-29.92\"/>\n",
       "</g>\n",
       "</g>\n",
       "</svg>\n"
      ],
      "text/plain": [
       "<graphviz.graphs.Digraph at 0x7f435aa0c400>"
      ]
     },
     "execution_count": 53,
     "metadata": {},
     "output_type": "execute_result"
    }
   ],
   "source": [
    "dot_2"
   ]
  },
  {
   "cell_type": "code",
   "execution_count": null,
   "metadata": {},
   "outputs": [],
   "source": []
  }
 ],
 "metadata": {
  "kernelspec": {
   "display_name": ".autograd_venv",
   "language": "python",
   "name": "python3"
  },
  "language_info": {
   "codemirror_mode": {
    "name": "ipython",
    "version": 3
   },
   "file_extension": ".py",
   "mimetype": "text/x-python",
   "name": "python",
   "nbconvert_exporter": "python",
   "pygments_lexer": "ipython3",
   "version": "3.10.12"
  }
 },
 "nbformat": 4,
 "nbformat_minor": 2
}
