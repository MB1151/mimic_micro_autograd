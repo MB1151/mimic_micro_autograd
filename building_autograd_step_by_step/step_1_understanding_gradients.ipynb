{
 "cells": [
  {
   "cell_type": "code",
   "execution_count": 1,
   "metadata": {},
   "outputs": [],
   "source": [
    "# In this notebook you learn:\n",
    "#\n",
    "# 1. How to calculate gradients manually for a simple mathematical expression through code.\n",
    "#\n",
    "#\n",
    "# Resources:\n",
    "# 1) https://www.youtube.com/watch?v=VMj-3S1tku0&list=PLAqhIrjkxbuWI23v9cThsA9GvCAUhRvKZ&index=1&pp=iAQB\n",
    "#       -- This video explains what is gradient and how to calculate it manually.\n",
    "#       -- The best resource to understand gradients without complicated math."
   ]
  },
  {
   "cell_type": "markdown",
   "metadata": {},
   "source": [
    "The mathematical definition for derivative is \n",
    "\n",
    "$$\\frac{df}{dx} = \\lim_{h \\to 0} \\frac{f(x+h)-f(x)}{h}$$"
   ]
  },
  {
   "cell_type": "code",
   "execution_count": 8,
   "metadata": {},
   "outputs": [],
   "source": [
    "# Tiny bit of change in variables to calculate the gradients.\n",
    "h = 0.01"
   ]
  },
  {
   "cell_type": "code",
   "execution_count": 10,
   "metadata": {},
   "outputs": [
    {
     "name": "stdout",
     "output_type": "stream",
     "text": [
      "20\n"
     ]
    }
   ],
   "source": [
    "# Lets consider a simple mathematical expression:\n",
    "# output = (var1 * var2) + var3 where var1 = 2, var2 = 5, var3 = 10\n",
    "#\n",
    "# Here, f is equivalent to output and it is a function of var1, var2 and var3 i.e., f(var1, var2, var3) = (var1 * var2) + var3\n",
    "# \n",
    "# Now, we need to calculate the gradient of the output w.r.t var1, var2 and var3. Since, we have 3 variables, we will \n",
    "# have 3 gradients (partial derivatives). The gradients are calculated as follows:\n",
    "# \n",
    "#\n",
    "\n",
    "var1 = 2\n",
    "var2 = 5\n",
    "var3 = 10\n",
    "interim1 = var1 * var2\n",
    "output1 = interim1 + var3\n",
    "print(output1)"
   ]
  },
  {
   "cell_type": "code",
   "execution_count": 11,
   "metadata": {},
   "outputs": [],
   "source": [
    "# Let's put the above mathematical expression in a function to evaluate function on different values.\n",
    "def f1(var1, var2, var3):\n",
    "    return (var1 * var2) + var3"
   ]
  },
  {
   "cell_type": "code",
   "execution_count": 13,
   "metadata": {},
   "outputs": [],
   "source": [
    "# Note that we nudge the values in the poisitive direction i.e., h > 0.\n",
    "#\n",
    "# To calculate the gradient of the output w.r.t var1, we nudge the value of var1 by h and calculate the output.\n",
    "var1up = var1 + h\n",
    "# To calculate the gradient of the output w.r.t var2, we nudge the value of var2 by h and calculate the output.\n",
    "var2up = var2 + h\n",
    "# To calculate the gradient of the output w.r.t var3, we nudge the value of var3 by h and calculate the output.\n",
    "var3up = var3 + h"
   ]
  },
  {
   "cell_type": "code",
   "execution_count": 15,
   "metadata": {},
   "outputs": [
    {
     "name": "stdout",
     "output_type": "stream",
     "text": [
      "dvar1 = 4.999999999999716\n",
      "------------------------------------------------------------------------------------------------------------------------------------------------------\n",
      "dvar2 = 1.9999999999999574\n",
      "------------------------------------------------------------------------------------------------------------------------------------------------------\n",
      "dvar3 = 0.999999999999801\n"
     ]
    }
   ],
   "source": [
    "# Derivation of the mathematical expression w.r.t var1\n",
    "output2 = f1(var1up, var2, var3)\n",
    "dvar1 = (output2 - output1) / h\n",
    "print(f\"dvar1 = {dvar1}\")\n",
    "print(\"-\" * 150)\n",
    "# Derivation of the mathematical expression w.r.t var2\n",
    "output3 = f1(var1, var2up, var3)\n",
    "dvar2 = (output3 - output1) / h\n",
    "print(f\"dvar2 = {dvar2}\")\n",
    "print(\"-\" * 150)\n",
    "# Derivation of the mathematical expression w.r.t var3\n",
    "output4 = f1(var1, var2, var3up)\n",
    "dvar3 = (output4 - output1) / h\n",
    "print(f\"dvar3 = {dvar3}\")"
   ]
  },
  {
   "cell_type": "markdown",
   "metadata": {},
   "source": [
    "Lets calculate the derivatives manually and see if the values match to the computed derivatives.\n",
    "\n",
    "$$f = (var1*var2) + var3$$\n",
    "$$\\frac{\\partial{f}}{\\partial{var1}} = var2$$\n",
    "$$\\frac{\\partial{f}}{\\partial{var2}} = var1$$\n",
    "$$\\frac{\\partial{f}}{\\partial{var3}} = 1$$"
   ]
  },
  {
   "cell_type": "code",
   "execution_count": 19,
   "metadata": {},
   "outputs": [
    {
     "name": "stdout",
     "output_type": "stream",
     "text": [
      "dvar1 = 4.999999999999716, var2 = 5\n",
      "dvar2 = 1.9999999999999574, var1 = 2\n",
      "dvar3 = 0.999999999999801, manual_derivative = 1\n"
     ]
    }
   ],
   "source": [
    "# The derivatives are close to 5, 2 and 1 respectively.\n",
    "print(f\"dvar1 = {dvar1}, var2 = {var2}\")\n",
    "print(f\"dvar2 = {dvar2}, var1 = {var1}\")\n",
    "print(f\"dvar3 = {dvar3}, manual_derivative = 1\") "
   ]
  },
  {
   "cell_type": "code",
   "execution_count": null,
   "metadata": {},
   "outputs": [],
   "source": []
  }
 ],
 "metadata": {
  "kernelspec": {
   "display_name": ".autograd_venv",
   "language": "python",
   "name": "python3"
  },
  "language_info": {
   "codemirror_mode": {
    "name": "ipython",
    "version": 3
   },
   "file_extension": ".py",
   "mimetype": "text/x-python",
   "name": "python",
   "nbconvert_exporter": "python",
   "pygments_lexer": "ipython3",
   "version": "3.10.12"
  }
 },
 "nbformat": 4,
 "nbformat_minor": 2
}
