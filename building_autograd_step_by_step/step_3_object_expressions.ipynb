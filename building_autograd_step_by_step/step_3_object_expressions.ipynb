{
 "cells": [
  {
   "cell_type": "code",
   "execution_count": 47,
   "metadata": {},
   "outputs": [],
   "source": [
    "# In this notebook, you learn:\n",
    "#\n",
    "# 1) How to wrap values in objects and perform operations on objects?\n",
    "# 2) How to visualize the expressions created using objects using the graphviz library mentioned in step 2?\n",
    "#\n",
    "#\n",
    "# Resources:\n",
    "# 1) https://www.youtube.com/watch?v=VMj-3S1tku0&list=PLAqhIrjkxbuWI23v9cThsA9GvCAUhRvKZ&index=1&pp=iAQB\n",
    "#       -- This video explains how to calculate expressions using objects and how to visualize the \n",
    "#       -- expressions using graphviz library.\n",
    "# 2) building_autograd_step_by_step/step_2_visualizing_graphs.ipynb\n",
    "#       -- This notebook explains how to visualize the expressions using graphviz library."
   ]
  },
  {
   "cell_type": "code",
   "execution_count": 8,
   "metadata": {},
   "outputs": [],
   "source": [
    "from graphviz import Digraph\n",
    "from typing import Set, Tuple, Union\n",
    "from queue import Queue"
   ]
  },
  {
   "cell_type": "code",
   "execution_count": 6,
   "metadata": {},
   "outputs": [],
   "source": [
    "# The idea is to create a class called Value that wraps a float value.\n",
    "# We will then overload the operators to perform operations on these objects.\n",
    "class Value:\n",
    "    def __init__(self, data: float, label:str=None):\n",
    "        # This is the data that the object will hold.\n",
    "        self.data = data\n",
    "        # This is the label to identify the object.\n",
    "        self.label = label\n",
    "\n",
    "    # This function is called when we use the + operator on 'Value' objects.\n",
    "    def __add__(self, other: 'Value') -> 'Value':\n",
    "        return Value(self.data + other.data)\n",
    "    \n",
    "    # This function is called when we use the * operator on 'Value' objects.\n",
    "    def __mul__(self, other: 'Value') -> 'Value':\n",
    "        return Value(self.data * other.data)\n",
    "\n",
    "    def __repr__(self):\n",
    "        return f\"{self.label}: {self.data}\""
   ]
  },
  {
   "cell_type": "code",
   "execution_count": 8,
   "metadata": {},
   "outputs": [
    {
     "name": "stdout",
     "output_type": "stream",
     "text": [
      "v1: 2\n",
      "------------------------------------------------------------------------------------------------------------------------------------------------------\n",
      "v2: 3\n"
     ]
    }
   ],
   "source": [
    "v1 = Value(data=2, label=\"v1\")\n",
    "print(v1)\n",
    "print(\"-\" * 150)\n",
    "v2 = Value(data=3, label=\"v2\")\n",
    "print(v2)"
   ]
  },
  {
   "cell_type": "code",
   "execution_count": 10,
   "metadata": {},
   "outputs": [
    {
     "name": "stdout",
     "output_type": "stream",
     "text": [
      "v3: 5\n"
     ]
    }
   ],
   "source": [
    "# Let's add two values -- v3.data = v1.data + v2.data = 2 + 3 = 5\n",
    "v3 = v1 + v2\n",
    "# We need to explicitly set the label for the new object.\n",
    "v3.label = \"v3\"\n",
    "print(v3)"
   ]
  },
  {
   "cell_type": "code",
   "execution_count": 11,
   "metadata": {},
   "outputs": [
    {
     "name": "stdout",
     "output_type": "stream",
     "text": [
      "v4: 6\n"
     ]
    }
   ],
   "source": [
    "# Let's multiply two values -- v4.data = v1.data * v2.data = 2 * 3 = 6\n",
    "v4 = v1 * v2\n",
    "v4.label = \"v4\"\n",
    "print(v4)"
   ]
  },
  {
   "cell_type": "markdown",
   "metadata": {},
   "source": [
    "#### Performing addition and multiplication with a literal"
   ]
  },
  {
   "cell_type": "code",
   "execution_count": 12,
   "metadata": {},
   "outputs": [
    {
     "ename": "AttributeError",
     "evalue": "'int' object has no attribute 'data'",
     "output_type": "error",
     "traceback": [
      "\u001b[0;31m---------------------------------------------------------------------------\u001b[0m",
      "\u001b[0;31mAttributeError\u001b[0m                            Traceback (most recent call last)",
      "Cell \u001b[0;32mIn[12], line 2\u001b[0m\n\u001b[1;32m      1\u001b[0m \u001b[38;5;66;03m# Now, let's see what happens when we perform addition with a literal.\u001b[39;00m\n\u001b[0;32m----> 2\u001b[0m v5 \u001b[38;5;241m=\u001b[39m \u001b[43mv1\u001b[49m\u001b[43m \u001b[49m\u001b[38;5;241;43m+\u001b[39;49m\u001b[43m \u001b[49m\u001b[38;5;241;43m3\u001b[39;49m\n",
      "Cell \u001b[0;32mIn[6], line 12\u001b[0m, in \u001b[0;36mValue.__add__\u001b[0;34m(self, other)\u001b[0m\n\u001b[1;32m     11\u001b[0m \u001b[38;5;28;01mdef\u001b[39;00m \u001b[38;5;21m__add__\u001b[39m(\u001b[38;5;28mself\u001b[39m, other: \u001b[38;5;124m'\u001b[39m\u001b[38;5;124mValue\u001b[39m\u001b[38;5;124m'\u001b[39m):\n\u001b[0;32m---> 12\u001b[0m     \u001b[38;5;28;01mreturn\u001b[39;00m Value(\u001b[38;5;28mself\u001b[39m\u001b[38;5;241m.\u001b[39mdata \u001b[38;5;241m+\u001b[39m \u001b[43mother\u001b[49m\u001b[38;5;241;43m.\u001b[39;49m\u001b[43mdata\u001b[49m)\n",
      "\u001b[0;31mAttributeError\u001b[0m: 'int' object has no attribute 'data'"
     ]
    }
   ],
   "source": [
    "# Now, let's see what happens when we perform addition with a literal.\n",
    "v5 = v1 + 3\n",
    "# The code will throw an error because the __add__ function is not defined for the case when the second operand is an integer.\n",
    "# Let's fix this now."
   ]
  },
  {
   "cell_type": "code",
   "execution_count": 19,
   "metadata": {},
   "outputs": [],
   "source": [
    "class Value_2:\n",
    "    def __init__(self, data: float, label:str=None):\n",
    "        self.data = data\n",
    "        self.label = label\n",
    "\n",
    "    def __add__(self, other: Union['Value_2', float]) -> 'Value_2':\n",
    "        if isinstance(other, float):\n",
    "            other = Value_2(other)\n",
    "        return Value_2(self.data + other.data)\n",
    "    \n",
    "    def __mul__(self, other: Union['Value_2', float]) -> 'Value_2':\n",
    "        if isinstance(other, float):\n",
    "            other = Value_2(other)\n",
    "        return Value_2(self.data * other.data)\n",
    "\n",
    "    def __repr__(self):\n",
    "        return f\"{self.label}: {self.data}\""
   ]
  },
  {
   "cell_type": "code",
   "execution_count": 24,
   "metadata": {},
   "outputs": [
    {
     "name": "stdout",
     "output_type": "stream",
     "text": [
      "type(v6): <class '__main__.Value_2'>\n",
      "v6: 12\n"
     ]
    }
   ],
   "source": [
    "# Let's create object of the new class for experimentation.\n",
    "v6 = Value_2(data=12, label=\"v6\")\n",
    "print(f\"type(v6): {type(v6)}\")\n",
    "print(v6)"
   ]
  },
  {
   "cell_type": "code",
   "execution_count": 25,
   "metadata": {},
   "outputs": [
    {
     "name": "stdout",
     "output_type": "stream",
     "text": [
      "type(v8): <class '__main__.Value_2'>\n",
      "v8: 34.0\n"
     ]
    }
   ],
   "source": [
    "# Let's add value to a literal -- v8.data = v6.data + 22 = 12 + 22 = 34\n",
    "v8 = v6 + 22.0\n",
    "v8.label = \"v8\"\n",
    "print(f\"type(v8): {type(v8)}\")\n",
    "print(v8)"
   ]
  },
  {
   "cell_type": "code",
   "execution_count": 27,
   "metadata": {},
   "outputs": [
    {
     "name": "stdout",
     "output_type": "stream",
     "text": [
      "type(v9): <class '__main__.Value_2'>\n",
      "v9: 240.0\n"
     ]
    }
   ],
   "source": [
    "# Let's multiply value with a literal -- v9.data = v6.data * 20 = 12 * 20 = 240\n",
    "v9 = v6 * 20.0\n",
    "v9.label = \"v9\"\n",
    "print(f\"type(v9): {type(v9)}\")\n",
    "print(v9)"
   ]
  },
  {
   "cell_type": "markdown",
   "metadata": {},
   "source": [
    "#### Performing addition and multiplication when literal is on LHS"
   ]
  },
  {
   "cell_type": "code",
   "execution_count": 31,
   "metadata": {},
   "outputs": [
    {
     "ename": "TypeError",
     "evalue": "unsupported operand type(s) for +: 'float' and 'Value_2'",
     "output_type": "error",
     "traceback": [
      "\u001b[0;31m---------------------------------------------------------------------------\u001b[0m",
      "\u001b[0;31mTypeError\u001b[0m                                 Traceback (most recent call last)",
      "Cell \u001b[0;32mIn[31], line 3\u001b[0m\n\u001b[1;32m      1\u001b[0m \u001b[38;5;66;03m# Notice that the addition fails if we put the literal first. This is because the __add__ function is not defined for the \u001b[39;00m\n\u001b[1;32m      2\u001b[0m \u001b[38;5;66;03m# case when the first operand is not a 'Value_2' object.\u001b[39;00m\n\u001b[0;32m----> 3\u001b[0m v10 \u001b[38;5;241m=\u001b[39m \u001b[38;5;241;43m22.0\u001b[39;49m\u001b[43m \u001b[49m\u001b[38;5;241;43m+\u001b[39;49m\u001b[43m \u001b[49m\u001b[43mv6\u001b[49m\n",
      "\u001b[0;31mTypeError\u001b[0m: unsupported operand type(s) for +: 'float' and 'Value_2'"
     ]
    }
   ],
   "source": [
    "# Notice that the addition fails if we put the literal first. This is because the __add__ function is not defined for the \n",
    "# case when the first operand is not a 'Value_2' object. Lets fix this now.\n",
    "v10 = 22.0 + v6"
   ]
  },
  {
   "cell_type": "code",
   "execution_count": 43,
   "metadata": {},
   "outputs": [],
   "source": [
    "class Value_3:\n",
    "    def __init__(self, data: float, label:str=None):\n",
    "        self.data = data\n",
    "        self.label = label\n",
    "    \n",
    "    def __add__(self, other: Union['Value_3', float]) -> 'Value_3':\n",
    "        if isinstance(other, float):\n",
    "            other = Value_3(other)\n",
    "        return Value(self.data + other.data)\n",
    "    \n",
    "    # To fix the issue when the first operand is not a 'Value_3' object i.e., 22.0 + v6.\n",
    "    def __radd__(self, other: float) -> 'Value_3':\n",
    "        other = Value_3(other)\n",
    "        return Value_3(self.data + other.data)\n",
    "    \n",
    "    def __mul__(self, other: Union['Value_3', float]) -> 'Value_3':\n",
    "        if isinstance(other, float):\n",
    "            other = Value_3(other)\n",
    "        return Value_3(self.data * other.data)\n",
    "\n",
    "    # To fix the issue when the first operand is not a 'Value_3' object i.e., 22.0 * v6.\n",
    "    def __rmul__(self, other: float) -> 'Value_3':\n",
    "        other = Value_3(other)\n",
    "        return Value_3(self.data * other.data)\n",
    "\n",
    "    def __repr__(self):\n",
    "        return f\"{self.label}: {self.data}\""
   ]
  },
  {
   "cell_type": "code",
   "execution_count": 44,
   "metadata": {},
   "outputs": [
    {
     "name": "stdout",
     "output_type": "stream",
     "text": [
      "type(v11): <class '__main__.Value_3'>\n",
      "v11: 10\n"
     ]
    }
   ],
   "source": [
    "v11 = Value_3(data=10, label=\"v11\")\n",
    "print(f\"type(v11): {type(v11)}\")\n",
    "print(v11)"
   ]
  },
  {
   "cell_type": "code",
   "execution_count": 45,
   "metadata": {},
   "outputs": [
    {
     "name": "stdout",
     "output_type": "stream",
     "text": [
      "type(v12): <class '__main__.Value_3'>\n",
      "v12: 20.0\n"
     ]
    }
   ],
   "source": [
    "# Let's add a literal to a value -- v12.data = 10 + v11.data = 10 + 10 = 20\n",
    "v12 = 10.0 + v11\n",
    "v12.label = \"v12\"\n",
    "print(f\"type(v12): {type(v12)}\")\n",
    "print(v12)"
   ]
  },
  {
   "cell_type": "code",
   "execution_count": 46,
   "metadata": {},
   "outputs": [
    {
     "name": "stdout",
     "output_type": "stream",
     "text": [
      "type(v13): <class '__main__.Value_3'>\n",
      "v13: 100.0\n"
     ]
    }
   ],
   "source": [
    "# Let's multiply a literal with a value -- v13.data = 10 * v11.data = 10 * 10 = 100\n",
    "v13 = 10.0 * v11\n",
    "v13.label = \"v13\"\n",
    "print(f\"type(v13): {type(v13)}\")\n",
    "print(v13)"
   ]
  },
  {
   "cell_type": "markdown",
   "metadata": {},
   "source": [
    "#### Keep track of the operations that create a new object."
   ]
  },
  {
   "cell_type": "code",
   "execution_count": 50,
   "metadata": {},
   "outputs": [
    {
     "name": "stdout",
     "output_type": "stream",
     "text": [
      "v14: 10\n",
      "------------------------------------------------------------------------------------------------------------------------------------------------------\n",
      "v15: 20\n",
      "------------------------------------------------------------------------------------------------------------------------------------------------------\n",
      "v16: 30\n",
      "------------------------------------------------------------------------------------------------------------------------------------------------------\n"
     ]
    }
   ],
   "source": [
    "# Let's create some objects to build a mathematical expression on.\n",
    "v14 = Value_3(data=10, label=\"v14\")\n",
    "print(v14)\n",
    "print(\"-\" * 150)\n",
    "v15 = Value_3(data=20, label=\"v15\")\n",
    "print(v15)\n",
    "print(\"-\" * 150)\n",
    "v16 = Value_3(data=30, label=\"v16\")\n",
    "print(v16)\n",
    "print(\"-\" * 150)"
   ]
  },
  {
   "cell_type": "code",
   "execution_count": 53,
   "metadata": {},
   "outputs": [
    {
     "name": "stdout",
     "output_type": "stream",
     "text": [
      "v17: 230\n"
     ]
    }
   ],
   "source": [
    "# Let's build a mathematical expression -- f(v14, v15, v16) = (v14 * v15) + v16\n",
    "#\n",
    "# v17 = (v14 * v15) + v16 = (10 * 20) + 30 = 200 + 30 = 230\n",
    "#\n",
    "# Here 'v17' is the result of combining 'v14', 'v15', and 'v16'. However, this information is lost in the evaluation i.e., we have no idea which and\n",
    "# how different variables are combined to give rise to a new object (v17). Keeping track of this could be useful in several situations. So, lets try \n",
    "# to keep track of how new objects are created based on the existing objects. We will use this information to visualize the expression later.\n",
    "v17 = (v14 * v15) + v16\n",
    "v17.label = \"v17\"\n",
    "print(v17)"
   ]
  },
  {
   "cell_type": "code",
   "execution_count": 84,
   "metadata": {},
   "outputs": [],
   "source": [
    "# We need to store two additional pieces of information to keep track of how new objects are created based on the existing objects.\n",
    "# 1) The operation performed to create the new object.\n",
    "# 2) The objects used to create the new object.\n",
    "class Value_4:\n",
    "    def __init__(self, data: float, label:str=\"\", operation:str=None, children: tuple=None):\n",
    "        self.data = data\n",
    "        self.label = label\n",
    "        self.operation = operation\n",
    "        # These are the operands used to create the new object.\n",
    "        self.children = children\n",
    "    \n",
    "    \n",
    "    def __add__(self, other: Union['Value_4', float]) -> 'Value_4':\n",
    "        if isinstance(other, float):\n",
    "            other = Value_4(other)\n",
    "        return Value_4(data=self.data+other.data, operation=\"+\", children=(self, other))\n",
    "\n",
    "    def __mul__(self, other: Union['Value_4', float]) -> 'Value_4':\n",
    "        if isinstance(other, float):\n",
    "            other = Value_4(other)\n",
    "        return Value_4(data=self.data*other.data, operation=\"*\", children=(self, other))\n",
    "\n",
    "    def __repr__(self):\n",
    "        operands = \", \".join([str(child.data) for child in self.children]) if self.children else None\n",
    "        return f\"data: {self.data}, label: {self.label}, operation: {self.operation}, children: ({operands})\""
   ]
  },
  {
   "cell_type": "code",
   "execution_count": 85,
   "metadata": {},
   "outputs": [
    {
     "name": "stdout",
     "output_type": "stream",
     "text": [
      "data: 5, label: v18, operation: None, children: (None)\n",
      "------------------------------------------------------------------------------------------------------------------------------------------------------\n",
      "data: 10, label: v19, operation: None, children: (None)\n",
      "------------------------------------------------------------------------------------------------------------------------------------------------------\n",
      "data: 15, label: v20, operation: None, children: (None)\n",
      "------------------------------------------------------------------------------------------------------------------------------------------------------\n",
      "data: 20, label: v21, operation: None, children: (None)\n"
     ]
    }
   ],
   "source": [
    "# Let's create some objects to build a mathematical expression on. \n",
    "# These objects will be leaf nodes in the expression tree -- no operation is performed to create these objects and they have no children.\n",
    "v18 = Value_4(data=5, label=\"v18\")\n",
    "print(v18)\n",
    "print(\"-\" * 150)\n",
    "v19 = Value_4(data=10, label=\"v19\")\n",
    "print(v19)\n",
    "print(\"-\" * 150)\n",
    "v20 = Value_4(data=15, label=\"v20\")\n",
    "print(v20)\n",
    "print(\"-\" * 150)\n",
    "v21 = Value_4(data=20, label=\"v21\")\n",
    "print(v21)"
   ]
  },
  {
   "cell_type": "code",
   "execution_count": 86,
   "metadata": {},
   "outputs": [
    {
     "name": "stdout",
     "output_type": "stream",
     "text": [
      "data: 50, label: v22, operation: *, children: (5, 10)\n",
      "------------------------------------------------------------------------------------------------------------------------------------------------------\n",
      "data: 35, label: v23, operation: +, children: (15, 20)\n",
      "------------------------------------------------------------------------------------------------------------------------------------------------------\n",
      "data: 85, label: v24, operation: +, children: (50, 35)\n"
     ]
    }
   ],
   "source": [
    "# Let's build a mathematical expression -- f(v18, v19, v20, v21) = (v18 * v19) + (v20 + v21)\n",
    "#\n",
    "# v22 = v18 * v19 = 5 * 10 = 50\n",
    "v22 = v18 * v19\n",
    "v22.label = \"v22\"\n",
    "print(v22)\n",
    "print(\"-\" * 150)\n",
    "# v23 = v20 + v21 = 15 + 20 = 35\n",
    "v23 = v20 + v21\n",
    "v23.label = \"v23\"\n",
    "print(v23)\n",
    "print(\"-\" * 150)\n",
    "# v24 = v22 * v23 = 50 + 35 = 85\n",
    "v24 = v22 + v23\n",
    "v24.label = \"v24\"\n",
    "print(v24)"
   ]
  },
  {
   "cell_type": "markdown",
   "metadata": {},
   "source": [
    "### Visualizing mathematical expressions on Value objects"
   ]
  },
  {
   "cell_type": "code",
   "execution_count": 109,
   "metadata": {},
   "outputs": [],
   "source": [
    "# Now, let's visualize the expression created using the objects. The visualization is similar to the one created in \n",
    "# 'building_autograd_step_by_step/step_2_visualizing_graphs.ipynb' but implemented using objects.\n",
    "\n",
    "def get_nodes_and_edges(root: Value_4) -> Tuple[Set[Value_4], Set[Tuple[Value_4, Value_4]]]:\n",
    "    \"\"\"Returns all the nodes and edges in the expression tree. Does not nodes for the operations.\n",
    "\n",
    "    Args:\n",
    "        root (Value_4): The root node (the final output object) of the expression tree.\n",
    "\n",
    "    Returns:\n",
    "        Tuple[Set[Value_4], Set[Tuple[Value_4, Value_4]]]: A tuple containing the set of nodes and set \n",
    "                                                           of edges in the expression tree.\n",
    "    \"\"\"\n",
    "    # We need set to store unique nodes and edges.\n",
    "    # We might have a case when the same node is used multiple times in the expression i.e., something like\n",
    "    # x = (a + b) * (a + b). In this case, 'a' and 'b' will be used twice. We need to store them only once.\n",
    "    # Hence, we use set instead of list.\n",
    "    nodes = set()\n",
    "    edges = set()\n",
    "    # Keeps track of the nodes that have been visited. This is necessary again because same node can be used\n",
    "    # multiple times in the expression.\n",
    "    visited = set()\n",
    "    queue = Queue()\n",
    "    queue.put(root)\n",
    "    # Perform BFS to get all the nodes and edges.\n",
    "    while not queue.empty():\n",
    "        node = queue.get()\n",
    "        if node in visited:\n",
    "            continue\n",
    "        visited.add(node)\n",
    "        nodes.add(node)\n",
    "        if node.children:\n",
    "            for child in node.children:\n",
    "                # We want the reverse edge in the visualization graph.\n",
    "                edges.add((child, node))\n",
    "                queue.put(child)\n",
    "    return nodes, edges\n",
    "\n",
    "def get_expression_graph(root: Value_4) -> Digraph:\n",
    "    \"\"\"Returns a graph that visualizes the expression created using the Value_4 objects.\n",
    "\n",
    "    Args:\n",
    "        root (Value_4): The root node (the final output object) of the expression tree.\n",
    "\n",
    "    Returns:\n",
    "        Digraph: DOT language graph that visualizes the expression created using the Value_4 objects.\n",
    "    \"\"\"\n",
    "    dot = Digraph(name=\"ExpressionGraph\", \n",
    "                  comment=\"Constructs the expression graph using the Value_4 objects.\",\n",
    "                  format=\"png\",\n",
    "                  graph_attr={\"rankdir\": \"LR\"})\n",
    "    nodes, edges = get_nodes_and_edges(root)\n",
    "    for node in nodes:\n",
    "        # id is a built-function that returns a unique integer identifier for the objects.\n",
    "        unique_id: str = str(id(node))\n",
    "        # Add a node to represent the data that the object holds.\n",
    "        dot.node(name=unique_id, label=f\"{node.label}|data {node.data:.4f}\", shape=\"record\")\n",
    "        # If the node has an operation, that means it is not a leaf node. We need to add a node to represent the operation.\n",
    "        if node.operation:\n",
    "            # Add a node to represent the operation that was performed to create the 'node'.\n",
    "            dot.node(name=f\"{unique_id}_{node.operation}\", label=node.operation)\n",
    "            # Add an edge from the operation node to the data node to visualize the operation that was performed.\n",
    "            dot.edge(tail_name=f\"{unique_id}_{node.operation}\", head_name=unique_id)\n",
    "    for edge in edges:\n",
    "        from_node, to_node = edge\n",
    "        # We add an edge from the from node to the operation node to visualize the operation that was performed\n",
    "        # on the 'from_node' to create the 'to_node'.\n",
    "        dot.edge(tail_name=str(id(from_node)), head_name=f\"{str(id(to_node))}_{to_node.operation}\")\n",
    "    return dot"
   ]
  },
  {
   "cell_type": "code",
   "execution_count": 110,
   "metadata": {},
   "outputs": [
    {
     "name": "stdout",
     "output_type": "stream",
     "text": [
      "data: 20, label: v25, operation: None, children: (None)\n",
      "------------------------------------------------------------------------------------------------------------------------------------------------------\n",
      "data: 30, label: v26, operation: None, children: (None)\n",
      "------------------------------------------------------------------------------------------------------------------------------------------------------\n",
      "data: 40, label: v27, operation: None, children: (None)\n"
     ]
    }
   ],
   "source": [
    "# Let's create some objects to build a mathematical expression on.\n",
    "# We will use the following expression -- f(v25, v26, v27) = (v25 * v26) + (v26 + v27)\n",
    "\n",
    "v25 = Value_4(data=20, label=\"v25\")\n",
    "print(v25)\n",
    "print(\"-\" * 150)\n",
    "v26 = Value_4(data=30, label=\"v26\")\n",
    "print(v26)\n",
    "print(\"-\" * 150)\n",
    "v27 = Value_4(data=40, label=\"v27\")\n",
    "print(v27)"
   ]
  },
  {
   "cell_type": "code",
   "execution_count": 111,
   "metadata": {},
   "outputs": [
    {
     "name": "stdout",
     "output_type": "stream",
     "text": [
      "data: 670, label: output, operation: +, children: (600, 70)\n"
     ]
    }
   ],
   "source": [
    "# We don't need to compute the expression step by step. Python can be able to compute the expression in one go since\n",
    "# the operators are overloaded.\n",
    "# v28 = (v25 * v26) + (v26 + v27) = (20 * 30) + (30 + 40) = 600 + 70 = 670\n",
    "v28 = (v25 * v26) + (v26 + v27)\n",
    "v28.label = \"output\"\n",
    "print(v28)"
   ]
  },
  {
   "cell_type": "code",
   "execution_count": 112,
   "metadata": {},
   "outputs": [
    {
     "data": {
      "image/svg+xml": [
       "<?xml version=\"1.0\" encoding=\"UTF-8\" standalone=\"no\"?>\n",
       "<!DOCTYPE svg PUBLIC \"-//W3C//DTD SVG 1.1//EN\"\n",
       " \"http://www.w3.org/Graphics/SVG/1.1/DTD/svg11.dtd\">\n",
       "<!-- Generated by graphviz version 2.43.0 (0)\n",
       " -->\n",
       "<!-- Title: ExpressionGraph Pages: 1 -->\n",
       "<svg width=\"611pt\" height=\"185pt\"\n",
       " viewBox=\"0.00 0.00 611.00 185.00\" xmlns=\"http://www.w3.org/2000/svg\" xmlns:xlink=\"http://www.w3.org/1999/xlink\">\n",
       "<g id=\"graph0\" class=\"graph\" transform=\"scale(1 1) rotate(0) translate(4 181)\">\n",
       "<title>ExpressionGraph</title>\n",
       "<polygon fill=\"white\" stroke=\"transparent\" points=\"-4,4 -4,-181 607,-181 607,4 -4,4\"/>\n",
       "<!-- 140660718637632 -->\n",
       "<g id=\"node1\" class=\"node\">\n",
       "<title>140660718637632</title>\n",
       "<polygon fill=\"none\" stroke=\"black\" points=\"237,-97.5 237,-143.5 357,-143.5 357,-97.5 237,-97.5\"/>\n",
       "<text text-anchor=\"middle\" x=\"297\" y=\"-128.3\" font-family=\"Times,serif\" font-size=\"14.00\"> </text>\n",
       "<polyline fill=\"none\" stroke=\"black\" points=\"237,-120.5 357,-120.5 \"/>\n",
       "<text text-anchor=\"middle\" x=\"297\" y=\"-105.3\" font-family=\"Times,serif\" font-size=\"14.00\">data 600.0000</text>\n",
       "</g>\n",
       "<!-- 140660718636288_+ -->\n",
       "<g id=\"node6\" class=\"node\">\n",
       "<title>140660718636288_+</title>\n",
       "<ellipse fill=\"none\" stroke=\"black\" cx=\"420\" cy=\"-87.5\" rx=\"27\" ry=\"18\"/>\n",
       "<text text-anchor=\"middle\" x=\"420\" y=\"-83.8\" font-family=\"Times,serif\" font-size=\"14.00\">+</text>\n",
       "</g>\n",
       "<!-- 140660718637632&#45;&gt;140660718636288_+ -->\n",
       "<g id=\"edge4\" class=\"edge\">\n",
       "<title>140660718637632&#45;&gt;140660718636288_+</title>\n",
       "<path fill=\"none\" stroke=\"black\" d=\"M357.08,-104.39C366.65,-101.78 376.27,-99.15 384.98,-96.78\"/>\n",
       "<polygon fill=\"black\" stroke=\"black\" points=\"386,-100.13 394.73,-94.12 384.16,-93.37 386,-100.13\"/>\n",
       "</g>\n",
       "<!-- 140660718637632_* -->\n",
       "<g id=\"node2\" class=\"node\">\n",
       "<title>140660718637632_*</title>\n",
       "<ellipse fill=\"none\" stroke=\"black\" cx=\"174\" cy=\"-120.5\" rx=\"27\" ry=\"18\"/>\n",
       "<text text-anchor=\"middle\" x=\"174\" y=\"-116.8\" font-family=\"Times,serif\" font-size=\"14.00\">*</text>\n",
       "</g>\n",
       "<!-- 140660718637632_*&#45;&gt;140660718637632 -->\n",
       "<g id=\"edge1\" class=\"edge\">\n",
       "<title>140660718637632_*&#45;&gt;140660718637632</title>\n",
       "<path fill=\"none\" stroke=\"black\" d=\"M201.26,-120.5C208.83,-120.5 217.47,-120.5 226.39,-120.5\"/>\n",
       "<polygon fill=\"black\" stroke=\"black\" points=\"226.52,-124 236.52,-120.5 226.52,-117 226.52,-124\"/>\n",
       "</g>\n",
       "<!-- 140660237680704 -->\n",
       "<g id=\"node3\" class=\"node\">\n",
       "<title>140660237680704</title>\n",
       "<polygon fill=\"none\" stroke=\"black\" points=\"0,-65.5 0,-111.5 111,-111.5 111,-65.5 0,-65.5\"/>\n",
       "<text text-anchor=\"middle\" x=\"55.5\" y=\"-96.3\" font-family=\"Times,serif\" font-size=\"14.00\">v26</text>\n",
       "<polyline fill=\"none\" stroke=\"black\" points=\"0,-88.5 111,-88.5 \"/>\n",
       "<text text-anchor=\"middle\" x=\"55.5\" y=\"-73.3\" font-family=\"Times,serif\" font-size=\"14.00\">data 30.0000</text>\n",
       "</g>\n",
       "<!-- 140660237680704&#45;&gt;140660718637632_* -->\n",
       "<g id=\"edge8\" class=\"edge\">\n",
       "<title>140660237680704&#45;&gt;140660718637632_*</title>\n",
       "<path fill=\"none\" stroke=\"black\" d=\"M111.34,-103.56C120.76,-106.15 130.29,-108.77 138.96,-111.15\"/>\n",
       "<polygon fill=\"black\" stroke=\"black\" points=\"138.1,-114.54 148.67,-113.82 139.96,-107.79 138.1,-114.54\"/>\n",
       "</g>\n",
       "<!-- 140660718637440_+ -->\n",
       "<g id=\"node9\" class=\"node\">\n",
       "<title>140660718637440_+</title>\n",
       "<ellipse fill=\"none\" stroke=\"black\" cx=\"174\" cy=\"-55.5\" rx=\"27\" ry=\"18\"/>\n",
       "<text text-anchor=\"middle\" x=\"174\" y=\"-51.8\" font-family=\"Times,serif\" font-size=\"14.00\">+</text>\n",
       "</g>\n",
       "<!-- 140660237680704&#45;&gt;140660718637440_+ -->\n",
       "<g id=\"edge6\" class=\"edge\">\n",
       "<title>140660237680704&#45;&gt;140660718637440_+</title>\n",
       "<path fill=\"none\" stroke=\"black\" d=\"M111.34,-72.97C120.84,-70.27 130.46,-67.55 139.19,-65.08\"/>\n",
       "<polygon fill=\"black\" stroke=\"black\" points=\"140.3,-68.4 148.97,-62.31 138.39,-61.67 140.3,-68.4\"/>\n",
       "</g>\n",
       "<!-- 140660237683344 -->\n",
       "<g id=\"node4\" class=\"node\">\n",
       "<title>140660237683344</title>\n",
       "<polygon fill=\"none\" stroke=\"black\" points=\"0,-0.5 0,-46.5 111,-46.5 111,-0.5 0,-0.5\"/>\n",
       "<text text-anchor=\"middle\" x=\"55.5\" y=\"-31.3\" font-family=\"Times,serif\" font-size=\"14.00\">v27</text>\n",
       "<polyline fill=\"none\" stroke=\"black\" points=\"0,-23.5 111,-23.5 \"/>\n",
       "<text text-anchor=\"middle\" x=\"55.5\" y=\"-8.3\" font-family=\"Times,serif\" font-size=\"14.00\">data 40.0000</text>\n",
       "</g>\n",
       "<!-- 140660237683344&#45;&gt;140660718637440_+ -->\n",
       "<g id=\"edge7\" class=\"edge\">\n",
       "<title>140660237683344&#45;&gt;140660718637440_+</title>\n",
       "<path fill=\"none\" stroke=\"black\" d=\"M111.34,-38.56C120.76,-41.15 130.29,-43.77 138.96,-46.15\"/>\n",
       "<polygon fill=\"black\" stroke=\"black\" points=\"138.1,-49.54 148.67,-48.82 139.96,-42.79 138.1,-49.54\"/>\n",
       "</g>\n",
       "<!-- 140660718636288 -->\n",
       "<g id=\"node5\" class=\"node\">\n",
       "<title>140660718636288</title>\n",
       "<polygon fill=\"none\" stroke=\"black\" points=\"483,-64.5 483,-110.5 603,-110.5 603,-64.5 483,-64.5\"/>\n",
       "<text text-anchor=\"middle\" x=\"543\" y=\"-95.3\" font-family=\"Times,serif\" font-size=\"14.00\">output</text>\n",
       "<polyline fill=\"none\" stroke=\"black\" points=\"483,-87.5 603,-87.5 \"/>\n",
       "<text text-anchor=\"middle\" x=\"543\" y=\"-72.3\" font-family=\"Times,serif\" font-size=\"14.00\">data 670.0000</text>\n",
       "</g>\n",
       "<!-- 140660718636288_+&#45;&gt;140660718636288 -->\n",
       "<g id=\"edge2\" class=\"edge\">\n",
       "<title>140660718636288_+&#45;&gt;140660718636288</title>\n",
       "<path fill=\"none\" stroke=\"black\" d=\"M447.26,-87.5C454.83,-87.5 463.47,-87.5 472.39,-87.5\"/>\n",
       "<polygon fill=\"black\" stroke=\"black\" points=\"472.52,-91 482.52,-87.5 472.52,-84 472.52,-91\"/>\n",
       "</g>\n",
       "<!-- 140660237680992 -->\n",
       "<g id=\"node7\" class=\"node\">\n",
       "<title>140660237680992</title>\n",
       "<polygon fill=\"none\" stroke=\"black\" points=\"0,-130.5 0,-176.5 111,-176.5 111,-130.5 0,-130.5\"/>\n",
       "<text text-anchor=\"middle\" x=\"55.5\" y=\"-161.3\" font-family=\"Times,serif\" font-size=\"14.00\">v25</text>\n",
       "<polyline fill=\"none\" stroke=\"black\" points=\"0,-153.5 111,-153.5 \"/>\n",
       "<text text-anchor=\"middle\" x=\"55.5\" y=\"-138.3\" font-family=\"Times,serif\" font-size=\"14.00\">data 20.0000</text>\n",
       "</g>\n",
       "<!-- 140660237680992&#45;&gt;140660718637632_* -->\n",
       "<g id=\"edge9\" class=\"edge\">\n",
       "<title>140660237680992&#45;&gt;140660718637632_*</title>\n",
       "<path fill=\"none\" stroke=\"black\" d=\"M111.34,-137.97C120.84,-135.27 130.46,-132.55 139.19,-130.08\"/>\n",
       "<polygon fill=\"black\" stroke=\"black\" points=\"140.3,-133.4 148.97,-127.31 138.39,-126.67 140.3,-133.4\"/>\n",
       "</g>\n",
       "<!-- 140660718637440 -->\n",
       "<g id=\"node8\" class=\"node\">\n",
       "<title>140660718637440</title>\n",
       "<polygon fill=\"none\" stroke=\"black\" points=\"241.5,-32.5 241.5,-78.5 352.5,-78.5 352.5,-32.5 241.5,-32.5\"/>\n",
       "<text text-anchor=\"middle\" x=\"297\" y=\"-63.3\" font-family=\"Times,serif\" font-size=\"14.00\"> </text>\n",
       "<polyline fill=\"none\" stroke=\"black\" points=\"241.5,-55.5 352.5,-55.5 \"/>\n",
       "<text text-anchor=\"middle\" x=\"297\" y=\"-40.3\" font-family=\"Times,serif\" font-size=\"14.00\">data 70.0000</text>\n",
       "</g>\n",
       "<!-- 140660718637440&#45;&gt;140660718636288_+ -->\n",
       "<g id=\"edge5\" class=\"edge\">\n",
       "<title>140660718637440&#45;&gt;140660718636288_+</title>\n",
       "<path fill=\"none\" stroke=\"black\" d=\"M352.84,-70C363.7,-72.87 374.8,-75.81 384.73,-78.44\"/>\n",
       "<polygon fill=\"black\" stroke=\"black\" points=\"384.04,-81.88 394.6,-81.05 385.83,-75.11 384.04,-81.88\"/>\n",
       "</g>\n",
       "<!-- 140660718637440_+&#45;&gt;140660718637440 -->\n",
       "<g id=\"edge3\" class=\"edge\">\n",
       "<title>140660718637440_+&#45;&gt;140660718637440</title>\n",
       "<path fill=\"none\" stroke=\"black\" d=\"M201.26,-55.5C210.21,-55.5 220.66,-55.5 231.28,-55.5\"/>\n",
       "<polygon fill=\"black\" stroke=\"black\" points=\"231.47,-59 241.47,-55.5 231.47,-52 231.47,-59\"/>\n",
       "</g>\n",
       "</g>\n",
       "</svg>\n"
      ],
      "text/plain": [
       "<graphviz.graphs.Digraph at 0x7fee03804310>"
      ]
     },
     "execution_count": 112,
     "metadata": {},
     "output_type": "execute_result"
    }
   ],
   "source": [
    "# Now, let's draw the expression graph.\n",
    "get_expression_graph(v28)"
   ]
  },
  {
   "cell_type": "code",
   "execution_count": 113,
   "metadata": {},
   "outputs": [
    {
     "name": "stdout",
     "output_type": "stream",
     "text": [
      "data: 5, label: v29, operation: None, children: (None)\n",
      "------------------------------------------------------------------------------------------------------------------------------------------------------\n",
      "data: 10, label: v30, operation: None, children: (None)\n",
      "------------------------------------------------------------------------------------------------------------------------------------------------------\n",
      "data: 15, label: v31, operation: None, children: (None)\n",
      "------------------------------------------------------------------------------------------------------------------------------------------------------\n",
      "data: 20, label: v32, operation: None, children: (None)\n",
      "------------------------------------------------------------------------------------------------------------------------------------------------------\n",
      "data: 25, label: v33, operation: None, children: (None)\n",
      "------------------------------------------------------------------------------------------------------------------------------------------------------\n"
     ]
    }
   ],
   "source": [
    "v29 = Value_4(data=5, label=\"v29\")\n",
    "print(v29)\n",
    "print(\"-\" * 150)\n",
    "v30 = Value_4(data=10, label=\"v30\")\n",
    "print(v30)\n",
    "print(\"-\" * 150)\n",
    "v31 = Value_4(data=15, label=\"v31\")\n",
    "print(v31)\n",
    "print(\"-\" * 150)\n",
    "v32 = Value_4(data=20, label=\"v32\")\n",
    "print(v32)\n",
    "print(\"-\" * 150)\n",
    "v33 = Value_4(data=25, label=\"v33\")\n",
    "print(v33)\n",
    "print(\"-\" * 150)"
   ]
  },
  {
   "cell_type": "code",
   "execution_count": 116,
   "metadata": {},
   "outputs": [
    {
     "name": "stdout",
     "output_type": "stream",
     "text": [
      "data: 326300, label: output, operation: *, children: (65, 5020)\n"
     ]
    }
   ],
   "source": [
    "# Let's build a slightly more complex expression:\n",
    "# f(v29, v30, v31, v32, v33) = ((v29 * v30) + v31) * (v32 + v33 * ((v29 + v31) * v30))\n",
    "# v34 = ((5 * 10) + 15) * (20 + 25 * ((5 + 15) * 10)) = (50 + 15) * (20 + 25 * 200) = 65 * (20 + 5000) = 65 * 5020 = 326300\n",
    "\n",
    "v34 = ((v29 * v30) + v31) * (v32 + v33 * ((v29 + v31) * v30))\n",
    "v34.label = \"output\"\n",
    "print(v34)"
   ]
  },
  {
   "cell_type": "code",
   "execution_count": 117,
   "metadata": {},
   "outputs": [
    {
     "data": {
      "image/svg+xml": [
       "<?xml version=\"1.0\" encoding=\"UTF-8\" standalone=\"no\"?>\n",
       "<!DOCTYPE svg PUBLIC \"-//W3C//DTD SVG 1.1//EN\"\n",
       " \"http://www.w3.org/Graphics/SVG/1.1/DTD/svg11.dtd\">\n",
       "<!-- Generated by graphviz version 2.43.0 (0)\n",
       " -->\n",
       "<!-- Title: ExpressionGraph Pages: 1 -->\n",
       "<svg width=\"1442pt\" height=\"204pt\"\n",
       " viewBox=\"0.00 0.00 1442.00 204.00\" xmlns=\"http://www.w3.org/2000/svg\" xmlns:xlink=\"http://www.w3.org/1999/xlink\">\n",
       "<g id=\"graph0\" class=\"graph\" transform=\"scale(1 1) rotate(0) translate(4 200)\">\n",
       "<title>ExpressionGraph</title>\n",
       "<polygon fill=\"white\" stroke=\"transparent\" points=\"-4,4 -4,-200 1438,-200 1438,4 -4,4\"/>\n",
       "<!-- 140660237644848 -->\n",
       "<g id=\"node1\" class=\"node\">\n",
       "<title>140660237644848</title>\n",
       "<polygon fill=\"none\" stroke=\"black\" points=\"478.5,-74.5 478.5,-120.5 589.5,-120.5 589.5,-74.5 478.5,-74.5\"/>\n",
       "<text text-anchor=\"middle\" x=\"534\" y=\"-105.3\" font-family=\"Times,serif\" font-size=\"14.00\">v33</text>\n",
       "<polyline fill=\"none\" stroke=\"black\" points=\"478.5,-97.5 589.5,-97.5 \"/>\n",
       "<text text-anchor=\"middle\" x=\"534\" y=\"-82.3\" font-family=\"Times,serif\" font-size=\"14.00\">data 25.0000</text>\n",
       "</g>\n",
       "<!-- 140660237647008_* -->\n",
       "<g id=\"node6\" class=\"node\">\n",
       "<title>140660237647008_*</title>\n",
       "<ellipse fill=\"none\" stroke=\"black\" cx=\"685.5\" cy=\"-101.5\" rx=\"27\" ry=\"18\"/>\n",
       "<text text-anchor=\"middle\" x=\"685.5\" y=\"-97.8\" font-family=\"Times,serif\" font-size=\"14.00\">*</text>\n",
       "</g>\n",
       "<!-- 140660237644848&#45;&gt;140660237647008_* -->\n",
       "<g id=\"edge11\" class=\"edge\">\n",
       "<title>140660237644848&#45;&gt;140660237647008_*</title>\n",
       "<path fill=\"none\" stroke=\"black\" d=\"M589.82,-98.97C609.14,-99.48 630.38,-100.05 647.84,-100.52\"/>\n",
       "<polygon fill=\"black\" stroke=\"black\" points=\"648.08,-104.03 658.17,-100.8 648.27,-97.03 648.08,-104.03\"/>\n",
       "</g>\n",
       "<!-- 140660237645904 -->\n",
       "<g id=\"node2\" class=\"node\">\n",
       "<title>140660237645904</title>\n",
       "<polygon fill=\"none\" stroke=\"black\" points=\"1287,-48.5 1287,-94.5 1434,-94.5 1434,-48.5 1287,-48.5\"/>\n",
       "<text text-anchor=\"middle\" x=\"1360.5\" y=\"-79.3\" font-family=\"Times,serif\" font-size=\"14.00\">output</text>\n",
       "<polyline fill=\"none\" stroke=\"black\" points=\"1287,-71.5 1434,-71.5 \"/>\n",
       "<text text-anchor=\"middle\" x=\"1360.5\" y=\"-56.3\" font-family=\"Times,serif\" font-size=\"14.00\">data 326300.0000</text>\n",
       "</g>\n",
       "<!-- 140660237645904_* -->\n",
       "<g id=\"node3\" class=\"node\">\n",
       "<title>140660237645904_*</title>\n",
       "<ellipse fill=\"none\" stroke=\"black\" cx=\"1224\" cy=\"-71.5\" rx=\"27\" ry=\"18\"/>\n",
       "<text text-anchor=\"middle\" x=\"1224\" y=\"-67.8\" font-family=\"Times,serif\" font-size=\"14.00\">*</text>\n",
       "</g>\n",
       "<!-- 140660237645904_*&#45;&gt;140660237645904 -->\n",
       "<g id=\"edge1\" class=\"edge\">\n",
       "<title>140660237645904_*&#45;&gt;140660237645904</title>\n",
       "<path fill=\"none\" stroke=\"black\" d=\"M1251.25,-71.5C1258.89,-71.5 1267.66,-71.5 1276.84,-71.5\"/>\n",
       "<polygon fill=\"black\" stroke=\"black\" points=\"1276.93,-75 1286.93,-71.5 1276.93,-68 1276.93,-75\"/>\n",
       "</g>\n",
       "<!-- 140660237643360 -->\n",
       "<g id=\"node4\" class=\"node\">\n",
       "<title>140660237643360</title>\n",
       "<polygon fill=\"none\" stroke=\"black\" points=\"0,-149.5 0,-195.5 111,-195.5 111,-149.5 0,-149.5\"/>\n",
       "<text text-anchor=\"middle\" x=\"55.5\" y=\"-180.3\" font-family=\"Times,serif\" font-size=\"14.00\">v30</text>\n",
       "<polyline fill=\"none\" stroke=\"black\" points=\"0,-172.5 111,-172.5 \"/>\n",
       "<text text-anchor=\"middle\" x=\"55.5\" y=\"-157.3\" font-family=\"Times,serif\" font-size=\"14.00\">data 10.0000</text>\n",
       "</g>\n",
       "<!-- 140660237645520_* -->\n",
       "<g id=\"node10\" class=\"node\">\n",
       "<title>140660237645520_*</title>\n",
       "<ellipse fill=\"none\" stroke=\"black\" cx=\"174\" cy=\"-135.5\" rx=\"27\" ry=\"18\"/>\n",
       "<text text-anchor=\"middle\" x=\"174\" y=\"-131.8\" font-family=\"Times,serif\" font-size=\"14.00\">*</text>\n",
       "</g>\n",
       "<!-- 140660237643360&#45;&gt;140660237645520_* -->\n",
       "<g id=\"edge15\" class=\"edge\">\n",
       "<title>140660237643360&#45;&gt;140660237645520_*</title>\n",
       "<path fill=\"none\" stroke=\"black\" d=\"M111.34,-155.08C121.03,-152.01 130.85,-148.89 139.71,-146.07\"/>\n",
       "<polygon fill=\"black\" stroke=\"black\" points=\"140.79,-149.4 149.26,-143.04 138.67,-142.73 140.79,-149.4\"/>\n",
       "</g>\n",
       "<!-- 140660237647056_* -->\n",
       "<g id=\"node12\" class=\"node\">\n",
       "<title>140660237647056_*</title>\n",
       "<ellipse fill=\"none\" stroke=\"black\" cx=\"411\" cy=\"-162.5\" rx=\"27\" ry=\"18\"/>\n",
       "<text text-anchor=\"middle\" x=\"411\" y=\"-158.8\" font-family=\"Times,serif\" font-size=\"14.00\">*</text>\n",
       "</g>\n",
       "<!-- 140660237643360&#45;&gt;140660237647056_* -->\n",
       "<g id=\"edge13\" class=\"edge\">\n",
       "<title>140660237643360&#45;&gt;140660237647056_*</title>\n",
       "<path fill=\"none\" stroke=\"black\" d=\"M111.06,-172.59C169.66,-172.45 265.47,-171.53 348,-167.5 356.43,-167.09 365.5,-166.46 374.03,-165.79\"/>\n",
       "<polygon fill=\"black\" stroke=\"black\" points=\"374.4,-169.27 384.08,-164.96 373.83,-162.29 374.4,-169.27\"/>\n",
       "</g>\n",
       "<!-- 140660237647008 -->\n",
       "<g id=\"node5\" class=\"node\">\n",
       "<title>140660237647008</title>\n",
       "<polygon fill=\"none\" stroke=\"black\" points=\"777,-76.5 777,-122.5 906,-122.5 906,-76.5 777,-76.5\"/>\n",
       "<text text-anchor=\"middle\" x=\"841.5\" y=\"-107.3\" font-family=\"Times,serif\" font-size=\"14.00\"> </text>\n",
       "<polyline fill=\"none\" stroke=\"black\" points=\"777,-99.5 906,-99.5 \"/>\n",
       "<text text-anchor=\"middle\" x=\"841.5\" y=\"-84.3\" font-family=\"Times,serif\" font-size=\"14.00\">data 5000.0000</text>\n",
       "</g>\n",
       "<!-- 140660237646672_+ -->\n",
       "<g id=\"node15\" class=\"node\">\n",
       "<title>140660237646672_+</title>\n",
       "<ellipse fill=\"none\" stroke=\"black\" cx=\"969\" cy=\"-99.5\" rx=\"27\" ry=\"18\"/>\n",
       "<text text-anchor=\"middle\" x=\"969\" y=\"-95.8\" font-family=\"Times,serif\" font-size=\"14.00\">+</text>\n",
       "</g>\n",
       "<!-- 140660237647008&#45;&gt;140660237646672_+ -->\n",
       "<g id=\"edge20\" class=\"edge\">\n",
       "<title>140660237647008&#45;&gt;140660237646672_+</title>\n",
       "<path fill=\"none\" stroke=\"black\" d=\"M906.35,-99.5C915.11,-99.5 923.84,-99.5 931.86,-99.5\"/>\n",
       "<polygon fill=\"black\" stroke=\"black\" points=\"931.93,-103 941.93,-99.5 931.93,-96 931.93,-103\"/>\n",
       "</g>\n",
       "<!-- 140660237647008_*&#45;&gt;140660237647008 -->\n",
       "<g id=\"edge2\" class=\"edge\">\n",
       "<title>140660237647008_*&#45;&gt;140660237647008</title>\n",
       "<path fill=\"none\" stroke=\"black\" d=\"M712.62,-101.16C727.6,-100.97 747.24,-100.71 766.6,-100.46\"/>\n",
       "<polygon fill=\"black\" stroke=\"black\" points=\"766.73,-103.96 776.68,-100.33 766.64,-96.96 766.73,-103.96\"/>\n",
       "</g>\n",
       "<!-- 140660237645472 -->\n",
       "<g id=\"node7\" class=\"node\">\n",
       "<title>140660237645472</title>\n",
       "<polygon fill=\"none\" stroke=\"black\" points=\"4.5,-67.5 4.5,-113.5 106.5,-113.5 106.5,-67.5 4.5,-67.5\"/>\n",
       "<text text-anchor=\"middle\" x=\"55.5\" y=\"-98.3\" font-family=\"Times,serif\" font-size=\"14.00\">v29</text>\n",
       "<polyline fill=\"none\" stroke=\"black\" points=\"4.5,-90.5 106.5,-90.5 \"/>\n",
       "<text text-anchor=\"middle\" x=\"55.5\" y=\"-75.3\" font-family=\"Times,serif\" font-size=\"14.00\">data 5.0000</text>\n",
       "</g>\n",
       "<!-- 140660237645472&#45;&gt;140660237645520_* -->\n",
       "<g id=\"edge10\" class=\"edge\">\n",
       "<title>140660237645472&#45;&gt;140660237645520_*</title>\n",
       "<path fill=\"none\" stroke=\"black\" d=\"M106.58,-109.85C118.08,-114.29 130.01,-118.89 140.53,-122.96\"/>\n",
       "<polygon fill=\"black\" stroke=\"black\" points=\"139.54,-126.33 150.13,-126.67 142.06,-119.8 139.54,-126.33\"/>\n",
       "</g>\n",
       "<!-- 140660237643600_+ -->\n",
       "<g id=\"node17\" class=\"node\">\n",
       "<title>140660237643600_+</title>\n",
       "<ellipse fill=\"none\" stroke=\"black\" cx=\"174\" cy=\"-81.5\" rx=\"27\" ry=\"18\"/>\n",
       "<text text-anchor=\"middle\" x=\"174\" y=\"-77.8\" font-family=\"Times,serif\" font-size=\"14.00\">+</text>\n",
       "</g>\n",
       "<!-- 140660237645472&#45;&gt;140660237643600_+ -->\n",
       "<g id=\"edge17\" class=\"edge\">\n",
       "<title>140660237645472&#45;&gt;140660237643600_+</title>\n",
       "<path fill=\"none\" stroke=\"black\" d=\"M106.58,-86.63C116.82,-85.84 127.4,-85.02 137.02,-84.28\"/>\n",
       "<polygon fill=\"black\" stroke=\"black\" points=\"137.33,-87.77 147.03,-83.51 136.79,-80.79 137.33,-87.77\"/>\n",
       "</g>\n",
       "<!-- 140660237643456 -->\n",
       "<g id=\"node8\" class=\"node\">\n",
       "<title>140660237643456</title>\n",
       "<polygon fill=\"none\" stroke=\"black\" points=\"0,-0.5 0,-46.5 111,-46.5 111,-0.5 0,-0.5\"/>\n",
       "<text text-anchor=\"middle\" x=\"55.5\" y=\"-31.3\" font-family=\"Times,serif\" font-size=\"14.00\">v31</text>\n",
       "<polyline fill=\"none\" stroke=\"black\" points=\"0,-23.5 111,-23.5 \"/>\n",
       "<text text-anchor=\"middle\" x=\"55.5\" y=\"-8.3\" font-family=\"Times,serif\" font-size=\"14.00\">data 15.0000</text>\n",
       "</g>\n",
       "<!-- 140660237643456&#45;&gt;140660237643600_+ -->\n",
       "<g id=\"edge16\" class=\"edge\">\n",
       "<title>140660237643456&#45;&gt;140660237643600_+</title>\n",
       "<path fill=\"none\" stroke=\"black\" d=\"M102.88,-46.59C116.3,-53.27 130.59,-60.39 142.75,-66.44\"/>\n",
       "<polygon fill=\"black\" stroke=\"black\" points=\"141.48,-69.72 151.99,-71.04 144.6,-63.45 141.48,-69.72\"/>\n",
       "</g>\n",
       "<!-- 140660237647248_+ -->\n",
       "<g id=\"node19\" class=\"node\">\n",
       "<title>140660237647248_+</title>\n",
       "<ellipse fill=\"none\" stroke=\"black\" cx=\"411\" cy=\"-41.5\" rx=\"27\" ry=\"18\"/>\n",
       "<text text-anchor=\"middle\" x=\"411\" y=\"-37.8\" font-family=\"Times,serif\" font-size=\"14.00\">+</text>\n",
       "</g>\n",
       "<!-- 140660237643456&#45;&gt;140660237647248_+ -->\n",
       "<g id=\"edge18\" class=\"edge\">\n",
       "<title>140660237643456&#45;&gt;140660237647248_+</title>\n",
       "<path fill=\"none\" stroke=\"black\" d=\"M111.06,-25.35C169.65,-27.47 265.46,-31.33 348,-36.5 356.43,-37.03 365.49,-37.7 374.02,-38.38\"/>\n",
       "<polygon fill=\"black\" stroke=\"black\" points=\"373.82,-41.87 384.07,-39.2 374.39,-34.9 373.82,-41.87\"/>\n",
       "</g>\n",
       "<!-- 140660237645520 -->\n",
       "<g id=\"node9\" class=\"node\">\n",
       "<title>140660237645520</title>\n",
       "<polygon fill=\"none\" stroke=\"black\" points=\"237,-46.5 237,-92.5 348,-92.5 348,-46.5 237,-46.5\"/>\n",
       "<text text-anchor=\"middle\" x=\"292.5\" y=\"-77.3\" font-family=\"Times,serif\" font-size=\"14.00\"> </text>\n",
       "<polyline fill=\"none\" stroke=\"black\" points=\"237,-69.5 348,-69.5 \"/>\n",
       "<text text-anchor=\"middle\" x=\"292.5\" y=\"-54.3\" font-family=\"Times,serif\" font-size=\"14.00\">data 50.0000</text>\n",
       "</g>\n",
       "<!-- 140660237645520&#45;&gt;140660237647248_+ -->\n",
       "<g id=\"edge21\" class=\"edge\">\n",
       "<title>140660237645520&#45;&gt;140660237647248_+</title>\n",
       "<path fill=\"none\" stroke=\"black\" d=\"M348.34,-56.32C357.57,-54.1 366.91,-51.86 375.44,-49.81\"/>\n",
       "<polygon fill=\"black\" stroke=\"black\" points=\"376.47,-53.16 385.38,-47.42 374.84,-46.35 376.47,-53.16\"/>\n",
       "</g>\n",
       "<!-- 140660237645520_*&#45;&gt;140660237645520 -->\n",
       "<g id=\"edge3\" class=\"edge\">\n",
       "<title>140660237645520_*&#45;&gt;140660237645520</title>\n",
       "<path fill=\"none\" stroke=\"black\" d=\"M195.03,-124.15C207.87,-116.88 225.16,-107.09 241.55,-97.8\"/>\n",
       "<polygon fill=\"black\" stroke=\"black\" points=\"243.55,-100.69 250.53,-92.71 240.1,-94.6 243.55,-100.69\"/>\n",
       "</g>\n",
       "<!-- 140660237647056 -->\n",
       "<g id=\"node11\" class=\"node\">\n",
       "<title>140660237647056</title>\n",
       "<polygon fill=\"none\" stroke=\"black\" points=\"474,-139.5 474,-185.5 594,-185.5 594,-139.5 474,-139.5\"/>\n",
       "<text text-anchor=\"middle\" x=\"534\" y=\"-170.3\" font-family=\"Times,serif\" font-size=\"14.00\"> </text>\n",
       "<polyline fill=\"none\" stroke=\"black\" points=\"474,-162.5 594,-162.5 \"/>\n",
       "<text text-anchor=\"middle\" x=\"534\" y=\"-147.3\" font-family=\"Times,serif\" font-size=\"14.00\">data 200.0000</text>\n",
       "</g>\n",
       "<!-- 140660237647056&#45;&gt;140660237647008_* -->\n",
       "<g id=\"edge14\" class=\"edge\">\n",
       "<title>140660237647056&#45;&gt;140660237647008_*</title>\n",
       "<path fill=\"none\" stroke=\"black\" d=\"M591.52,-139.44C612.17,-131.01 634.8,-121.78 652.56,-114.53\"/>\n",
       "<polygon fill=\"black\" stroke=\"black\" points=\"653.95,-117.75 661.89,-110.73 651.3,-111.26 653.95,-117.75\"/>\n",
       "</g>\n",
       "<!-- 140660237647056_*&#45;&gt;140660237647056 -->\n",
       "<g id=\"edge4\" class=\"edge\">\n",
       "<title>140660237647056_*&#45;&gt;140660237647056</title>\n",
       "<path fill=\"none\" stroke=\"black\" d=\"M438.26,-162.5C445.83,-162.5 454.47,-162.5 463.39,-162.5\"/>\n",
       "<polygon fill=\"black\" stroke=\"black\" points=\"463.52,-166 473.52,-162.5 463.52,-159 463.52,-166\"/>\n",
       "</g>\n",
       "<!-- 140660237646624 -->\n",
       "<g id=\"node13\" class=\"node\">\n",
       "<title>140660237646624</title>\n",
       "<polygon fill=\"none\" stroke=\"black\" points=\"786,-141.5 786,-187.5 897,-187.5 897,-141.5 786,-141.5\"/>\n",
       "<text text-anchor=\"middle\" x=\"841.5\" y=\"-172.3\" font-family=\"Times,serif\" font-size=\"14.00\">v32</text>\n",
       "<polyline fill=\"none\" stroke=\"black\" points=\"786,-164.5 897,-164.5 \"/>\n",
       "<text text-anchor=\"middle\" x=\"841.5\" y=\"-149.3\" font-family=\"Times,serif\" font-size=\"14.00\">data 20.0000</text>\n",
       "</g>\n",
       "<!-- 140660237646624&#45;&gt;140660237646672_+ -->\n",
       "<g id=\"edge9\" class=\"edge\">\n",
       "<title>140660237646624&#45;&gt;140660237646672_+</title>\n",
       "<path fill=\"none\" stroke=\"black\" d=\"M888.69,-141.38C894.53,-138.41 900.41,-135.4 906,-132.5 916.61,-127 928.18,-120.88 938.43,-115.41\"/>\n",
       "<polygon fill=\"black\" stroke=\"black\" points=\"940.23,-118.42 947.39,-110.62 936.93,-112.25 940.23,-118.42\"/>\n",
       "</g>\n",
       "<!-- 140660237646672 -->\n",
       "<g id=\"node14\" class=\"node\">\n",
       "<title>140660237646672</title>\n",
       "<polygon fill=\"none\" stroke=\"black\" points=\"1032,-75.5 1032,-121.5 1161,-121.5 1161,-75.5 1032,-75.5\"/>\n",
       "<text text-anchor=\"middle\" x=\"1096.5\" y=\"-106.3\" font-family=\"Times,serif\" font-size=\"14.00\"> </text>\n",
       "<polyline fill=\"none\" stroke=\"black\" points=\"1032,-98.5 1161,-98.5 \"/>\n",
       "<text text-anchor=\"middle\" x=\"1096.5\" y=\"-83.3\" font-family=\"Times,serif\" font-size=\"14.00\">data 5020.0000</text>\n",
       "</g>\n",
       "<!-- 140660237646672&#45;&gt;140660237645904_* -->\n",
       "<g id=\"edge19\" class=\"edge\">\n",
       "<title>140660237646672&#45;&gt;140660237645904_*</title>\n",
       "<path fill=\"none\" stroke=\"black\" d=\"M1161.35,-84.76C1170.65,-82.76 1179.92,-80.77 1188.33,-78.96\"/>\n",
       "<polygon fill=\"black\" stroke=\"black\" points=\"1189.09,-82.38 1198.13,-76.85 1187.61,-75.53 1189.09,-82.38\"/>\n",
       "</g>\n",
       "<!-- 140660237646672_+&#45;&gt;140660237646672 -->\n",
       "<g id=\"edge5\" class=\"edge\">\n",
       "<title>140660237646672_+&#45;&gt;140660237646672</title>\n",
       "<path fill=\"none\" stroke=\"black\" d=\"M996,-99.29C1003.75,-99.23 1012.66,-99.16 1021.89,-99.09\"/>\n",
       "<polygon fill=\"black\" stroke=\"black\" points=\"1022.02,-102.59 1031.99,-99.01 1021.96,-95.59 1022.02,-102.59\"/>\n",
       "</g>\n",
       "<!-- 140660237643600 -->\n",
       "<g id=\"node16\" class=\"node\">\n",
       "<title>140660237643600</title>\n",
       "<polygon fill=\"none\" stroke=\"black\" points=\"237,-111.5 237,-157.5 348,-157.5 348,-111.5 237,-111.5\"/>\n",
       "<text text-anchor=\"middle\" x=\"292.5\" y=\"-142.3\" font-family=\"Times,serif\" font-size=\"14.00\"> </text>\n",
       "<polyline fill=\"none\" stroke=\"black\" points=\"237,-134.5 348,-134.5 \"/>\n",
       "<text text-anchor=\"middle\" x=\"292.5\" y=\"-119.3\" font-family=\"Times,serif\" font-size=\"14.00\">data 20.0000</text>\n",
       "</g>\n",
       "<!-- 140660237643600&#45;&gt;140660237647056_* -->\n",
       "<g id=\"edge12\" class=\"edge\">\n",
       "<title>140660237643600&#45;&gt;140660237647056_*</title>\n",
       "<path fill=\"none\" stroke=\"black\" d=\"M348.34,-147.68C357.57,-149.9 366.91,-152.14 375.44,-154.19\"/>\n",
       "<polygon fill=\"black\" stroke=\"black\" points=\"374.84,-157.65 385.38,-156.58 376.47,-150.84 374.84,-157.65\"/>\n",
       "</g>\n",
       "<!-- 140660237643600_+&#45;&gt;140660237643600 -->\n",
       "<g id=\"edge6\" class=\"edge\">\n",
       "<title>140660237643600_+&#45;&gt;140660237643600</title>\n",
       "<path fill=\"none\" stroke=\"black\" d=\"M196.64,-91.34C206.5,-95.83 218.71,-101.38 231.05,-107\"/>\n",
       "<polygon fill=\"black\" stroke=\"black\" points=\"229.93,-110.33 240.48,-111.29 232.83,-103.96 229.93,-110.33\"/>\n",
       "</g>\n",
       "<!-- 140660237647248 -->\n",
       "<g id=\"node18\" class=\"node\">\n",
       "<title>140660237647248</title>\n",
       "<polygon fill=\"none\" stroke=\"black\" points=\"630,-18.5 630,-64.5 741,-64.5 741,-18.5 630,-18.5\"/>\n",
       "<text text-anchor=\"middle\" x=\"685.5\" y=\"-49.3\" font-family=\"Times,serif\" font-size=\"14.00\"> </text>\n",
       "<polyline fill=\"none\" stroke=\"black\" points=\"630,-41.5 741,-41.5 \"/>\n",
       "<text text-anchor=\"middle\" x=\"685.5\" y=\"-26.3\" font-family=\"Times,serif\" font-size=\"14.00\">data 65.0000</text>\n",
       "</g>\n",
       "<!-- 140660237647248&#45;&gt;140660237645904_* -->\n",
       "<g id=\"edge8\" class=\"edge\">\n",
       "<title>140660237647248&#45;&gt;140660237645904_*</title>\n",
       "<path fill=\"none\" stroke=\"black\" d=\"M741.35,-43.46C829.76,-46.79 1009.23,-54.32 1161,-65.5 1169.43,-66.12 1178.5,-66.92 1187.03,-67.74\"/>\n",
       "<polygon fill=\"black\" stroke=\"black\" points=\"1186.79,-71.23 1197.08,-68.72 1187.47,-64.26 1186.79,-71.23\"/>\n",
       "</g>\n",
       "<!-- 140660237647248_+&#45;&gt;140660237647248 -->\n",
       "<g id=\"edge7\" class=\"edge\">\n",
       "<title>140660237647248_+&#45;&gt;140660237647248</title>\n",
       "<path fill=\"none\" stroke=\"black\" d=\"M438.13,-41.5C479.6,-41.5 561.72,-41.5 619.73,-41.5\"/>\n",
       "<polygon fill=\"black\" stroke=\"black\" points=\"619.9,-45 629.9,-41.5 619.9,-38 619.9,-45\"/>\n",
       "</g>\n",
       "</g>\n",
       "</svg>\n"
      ],
      "text/plain": [
       "<graphviz.graphs.Digraph at 0x7fee037fb5e0>"
      ]
     },
     "execution_count": 117,
     "metadata": {},
     "output_type": "execute_result"
    }
   ],
   "source": [
    "get_expression_graph(v34)"
   ]
  },
  {
   "cell_type": "code",
   "execution_count": null,
   "metadata": {},
   "outputs": [],
   "source": []
  }
 ],
 "metadata": {
  "kernelspec": {
   "display_name": ".autograd_venv",
   "language": "python",
   "name": "python3"
  },
  "language_info": {
   "codemirror_mode": {
    "name": "ipython",
    "version": 3
   },
   "file_extension": ".py",
   "mimetype": "text/x-python",
   "name": "python",
   "nbconvert_exporter": "python",
   "pygments_lexer": "ipython3",
   "version": "3.10.12"
  }
 },
 "nbformat": 4,
 "nbformat_minor": 2
}
